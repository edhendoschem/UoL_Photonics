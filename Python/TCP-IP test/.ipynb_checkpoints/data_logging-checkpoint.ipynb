{
 "cells": [
  {
   "cell_type": "code",
   "execution_count": 3,
   "metadata": {
    "collapsed": true
   },
   "outputs": [],
   "source": [
    "import time\n",
    "import numpy as np\n",
    "\n",
    "file_handle = open(\"testfile.csv\", 'a+', 1) #Opens in append mode to add to the end of the file\n",
    "try:\n",
    "    for i in range(0,100):\n",
    "        rand1 = str(np.random.randint(0,100000))\n",
    "        rand2 = str(np.random.randint(0,100000))\n",
    "        rand3 = str(np.random.randint(0,100000))\n",
    "        file_handle.write(rand1+','+rand2+','+rand3+'\\n')\n",
    "        time.sleep(5)\n",
    "    file_handle.close()\n",
    "except:\n",
    "    file_handle.close()\n",
    "    \n"
   ]
  },
  {
   "cell_type": "code",
   "execution_count": 2,
   "metadata": {
    "collapsed": false
   },
   "outputs": [
    {
     "name": "stdout",
     "output_type": "stream",
     "text": [
      "3297\n",
      "89419\n",
      "8284\n",
      "3434\n",
      "99894\n",
      "27958\n",
      "49032\n",
      "71388\n",
      "55278\n",
      "42216\n",
      "23398\n",
      "12956\n",
      "16882\n",
      "25406\n",
      "2039\n",
      "47004\n",
      "88811\n",
      "58759\n",
      "79530\n",
      "45706\n",
      "64623\n",
      "17796\n",
      "67460\n",
      "21450\n",
      "437\n",
      "35317\n",
      "9953\n",
      "67210\n",
      "99802\n",
      "62850\n",
      "33734\n",
      "21789\n",
      "84051\n",
      "68984\n",
      "2499\n",
      "25758\n",
      "67139\n",
      "43298\n",
      "12869\n",
      "32614\n",
      "93597\n",
      "8475\n",
      "68984\n",
      "85303\n",
      "34885\n",
      "53486\n",
      "70295\n",
      "16760\n",
      "93436\n",
      "18869\n",
      "27369\n",
      "46136\n",
      "8971\n",
      "56182\n",
      "62836\n",
      "96060\n",
      "45267\n",
      "42954\n",
      "82572\n",
      "51177\n",
      "11621\n",
      "82696\n",
      "68318\n",
      "27927\n",
      "16333\n",
      "25215\n",
      "60510\n",
      "4493\n",
      "95106\n",
      "15609\n",
      "64425\n",
      "88209\n",
      "35321\n",
      "61307\n",
      "29920\n",
      "34949\n",
      "78834\n",
      "47429\n",
      "14925\n",
      "52173\n",
      "61688\n",
      "2131\n",
      "11093\n",
      "88886\n",
      "17441\n",
      "33631\n",
      "4376\n",
      "50831\n",
      "4089\n",
      "82021\n",
      "23514\n",
      "19507\n",
      "6787\n",
      "66271\n",
      "12302\n",
      "53581\n",
      "8157\n",
      "65982\n",
      "59153\n",
      "85480\n"
     ]
    }
   ],
   "source": [
    "import numpy as np\n",
    "for i in range(0, 100):\n",
    "    print(np.random.randint(0,100000))"
   ]
  },
  {
   "cell_type": "code",
   "execution_count": null,
   "metadata": {
    "collapsed": true
   },
   "outputs": [],
   "source": []
  }
 ],
 "metadata": {
  "kernelspec": {
   "display_name": "Python 3",
   "language": "python",
   "name": "python3"
  },
  "language_info": {
   "codemirror_mode": {
    "name": "ipython",
    "version": 3
   },
   "file_extension": ".py",
   "mimetype": "text/x-python",
   "name": "python",
   "nbconvert_exporter": "python",
   "pygments_lexer": "ipython3",
   "version": "3.6.2"
  }
 },
 "nbformat": 4,
 "nbformat_minor": 2
}
