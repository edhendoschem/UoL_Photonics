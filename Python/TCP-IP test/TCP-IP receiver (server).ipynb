{
 "cells": [
  {
   "cell_type": "code",
   "execution_count": 6,
   "metadata": {
    "collapsed": true
   },
   "outputs": [],
   "source": [
    "import time\n",
    "import os\n",
    "import re\n",
    "import socket\n",
    "import datetime\n",
    "import pyautogui\n",
    "\n",
    "def return_datetime():\n",
    "    \"\"\"\n",
    "    Returns the date and time in the following format YYYY/MM/DD HH:MM:SS\n",
    "    \"\"\"\n",
    "    date_time = datetime.datetime.now().strftime('%Y/%m/%d %H:%M:%S')\n",
    "    return date_time\n",
    "\n",
    "def packet(obj):\n",
    "    \"\"\"\n",
    "    Converts an obj to bytes in order to send them via TCP/IP, requires obj (any type compatible with str() function)\n",
    "    \"\"\"\n",
    "    obj = str(obj)\n",
    "    return bytes(obj, 'utf-8')\n",
    "def change_attenuator(value):\n",
    "    try:\n",
    "        #take a screenshot\n",
    "        im=pyautogui.screenshot()\n",
    "        #Locate the laser tab\n",
    "        pyautogui.moveTo(200,200)\n",
    "        obj = pyautogui.locateOnScreen('laser_tab.bmp') \n",
    "        pyautogui.moveTo(obj[0], obj[1], 0.05) #Moves the mouse to the upper left corner of the obj\n",
    "        pyautogui.moveRel(obj[2]/2, obj[3]/2, 0.05) #Moves the mouse to the middle of the detected obj\n",
    "        pos = pyautogui.position()\n",
    "        pyautogui.click(pos[0], pos[1], button = 'left') #Clicks on the tab\n",
    "\n",
    "        #In laser tab find the att position tab\n",
    "        pyautogui.moveTo(200,200)\n",
    "        obj = pyautogui.locateOnScreen('degrees_sp.bmp')\n",
    "        pyautogui.moveTo(obj[0], obj[1], 0.05) #Moves the mouse to the upper left corner of the obj\n",
    "        pyautogui.moveRel(10, obj[3] * 3/4, 0.05) #Moves the mouse to the middle in y direction and 10 pixels right\n",
    "        pos = pyautogui.position()\n",
    "        pyautogui.click(pos[0], pos[1], button = 'left') #Clicks on the field to modify it\n",
    "        pyautogui.typewrite(['delete', 'delete','delete', 'delete']) #Deletes current field\n",
    "        pyautogui.typewrite(value) #Types new attenuator value\n",
    "\n",
    "        #Finally click the set position\n",
    "        pyautogui.moveTo(200,200)\n",
    "        obj = pyautogui.locateOnScreen('set_position.bmp')\n",
    "        pyautogui.moveTo(obj[0], obj[1], 0.05) #Moves the mouse to the upper left corner of the obj\n",
    "        pyautogui.moveRel(obj[2]/2, obj[3]/2, 0.05) #Moves the mouse to the middle of the detected obj\n",
    "        pos = pyautogui.position()\n",
    "        pyautogui.click(pos[0], pos[1], button = 'left') #Clicks on the field to modify it\n",
    "        return\n",
    "    except:\n",
    "        print(\"except clause entered in change_attenuator(): returning... \", end = '\\r')\n",
    "        return\n",
    "\n",
    "\n",
    "def create_server(ip_addr, port, BUFFER_SIZE = 32):\n",
    "    try:\n",
    "        TCP_IP = ip_addr\n",
    "        TCP_PORT = port\n",
    "        prev_att_val = ''\n",
    "        #BUFFER_SIZE establishes maximum length per packet\n",
    "        s = socket.socket(socket.AF_INET, socket.SOCK_STREAM)\n",
    "        s.bind((TCP_IP, TCP_PORT))\n",
    "        s.listen(1) #Number of connections that can be queued in current port, max size is 5\n",
    "        conn, addr = s.accept()\n",
    "        print(\"Connection established, address: \", addr)\n",
    "        while True:\n",
    "            data = conn.recv(BUFFER_SIZE)\n",
    "            if not data:\n",
    "                print(\"\\nConnection ended by client\")\n",
    "                break;\n",
    "            str_data = str(data)\n",
    "            string = \"{}, data received = {}\".format(return_datetime(), str_data)\n",
    "            print(string, end = '\\r')\n",
    "            if str_data != prev_att_val: #Disable for non live testing\n",
    "                try:\n",
    "                    print(\"changed attenuator to {}\".format(str_data))\n",
    "                    #change_attenuator(str_data) #Moves mouse and keyboard to change the attenuator value\n",
    "                except:\n",
    "                    continue\n",
    "            prev_att_val = str_data\n",
    "            conn.send(packet(return_datetime()))\n",
    "        conn.close()\n",
    "        s.close()\n",
    "    except:\n",
    "        print(\"Except clause entered in create_server(): attempting to close connections...\")\n",
    "        conn.close()\n",
    "        s.close()\n",
    "    return\n"
   ]
  },
  {
   "cell_type": "code",
   "execution_count": 11,
   "metadata": {
    "collapsed": false,
    "scrolled": false
   },
   "outputs": [
    {
     "name": "stdout",
     "output_type": "stream",
     "text": [
      "Connection established, address:  ('127.0.0.1', 52076)\n",
      "changed attenuator to b'0.1'ceived = b'0.1'\n",
      "changed attenuator to b'6.5'ceived = b'6.5'\n",
      "changed attenuator to b'1.0'ceived = b'1.0'\n",
      "changed attenuator to b'6.5'ceived = b'6.5'\n",
      "changed attenuator to b'1.0'ceived = b'1.0'\n",
      "2017/10/20 13:26:57, data received = b'1.0'\n",
      "Connection ended by client\n"
     ]
    }
   ],
   "source": [
    "create_server('127.0.0.1', 13536)   \n"
   ]
  },
  {
   "cell_type": "code",
   "execution_count": null,
   "metadata": {
    "collapsed": true
   },
   "outputs": [],
   "source": []
  }
 ],
 "metadata": {
  "kernelspec": {
   "display_name": "Python 3",
   "language": "python",
   "name": "python3"
  },
  "language_info": {
   "codemirror_mode": {
    "name": "ipython",
    "version": 3
   },
   "file_extension": ".py",
   "mimetype": "text/x-python",
   "name": "python",
   "nbconvert_exporter": "python",
   "pygments_lexer": "ipython3",
   "version": "3.6.2"
  }
 },
 "nbformat": 4,
 "nbformat_minor": 2
}
