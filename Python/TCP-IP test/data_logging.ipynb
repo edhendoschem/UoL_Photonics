{
 "cells": [
  {
   "cell_type": "code",
   "execution_count": 1,
   "metadata": {
    "collapsed": true
   },
   "outputs": [],
   "source": [
    "import time\n",
    "import numpy as np\n",
    "\n",
    "file_handle = open(\"testfile.csv\", 'a+', 1) #Opens in append mode to add to the end of the file, flushes after every line\n",
    "try:\n",
    "    while True:#Needs to be stopped manually by clicking or selecting interrupt kernel in jupyter notebook\n",
    "        rand1 = str(np.random.randint(0,100000)) #Random data\n",
    "        rand2 = str(np.random.randint(0,100000)) #Random data\n",
    "        rand3 = str(np.random.randint(0,100000)) #Random data\n",
    "        file_handle.write(rand1+','+rand2+','+rand3+'\\n') #write the random data\n",
    "        time.sleep(5) #wait 5 seconds\n",
    "except:  #will catch the manual stop and close the file\n",
    "    file_handle.close()\n",
    "    \n"
   ]
  }
 ],
 "metadata": {
  "kernelspec": {
   "display_name": "Python 3",
   "language": "python",
   "name": "python3"
  },
  "language_info": {
   "codemirror_mode": {
    "name": "ipython",
    "version": 3
   },
   "file_extension": ".py",
   "mimetype": "text/x-python",
   "name": "python",
   "nbconvert_exporter": "python",
   "pygments_lexer": "ipython3",
   "version": "3.6.2"
  }
 },
 "nbformat": 4,
 "nbformat_minor": 2
}
