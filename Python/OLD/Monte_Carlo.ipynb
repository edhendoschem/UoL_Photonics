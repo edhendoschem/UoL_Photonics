{
 "cells": [
  {
   "cell_type": "code",
   "execution_count": 1,
   "metadata": {
    "collapsed": true
   },
   "outputs": [],
   "source": [
    "#Exercises for the book: Monte Carlo Methods, 2nd edition\n",
    "import numpy as np\n",
    "import time"
   ]
  },
  {
   "cell_type": "code",
   "execution_count": 20,
   "metadata": {
    "collapsed": false
   },
   "outputs": [
    {
     "name": "stdout",
     "output_type": "stream",
     "text": [
      "The value of pi/4 is = 0.785614055401036\n",
      "The real value of pi/4 is = 0.7853981633974483\n",
      "The relative error is = 0.0275%\n",
      "Elapsed time = 0.050618648529052734 seconds\n"
     ]
    }
   ],
   "source": [
    "#Page 29 in the book, calculating pi\n",
    "size = 1000000\n",
    "start = time.time()\n",
    "rand_numbers = np.random.random_sample(size)\n",
    "result_vector = np.sqrt(1 - np.power(rand_numbers,2))\n",
    "result = np.sum(result_vector)\n",
    "pi_approx = result / size\n",
    "end = time.time()\n",
    "print(\"The value of pi/4 is = {}\".format(pi_approx))\n",
    "print(\"The real value of pi/4 is = {}\".format(np.pi/4))\n",
    "print(\"The relative error is = {0:.4f}%\".format(np.abs(pi_approx-np.pi/4)*100/(np.pi/4)))\n",
    "print(\"Elapsed time = {} seconds\".format(end-start))"
   ]
  },
  {
   "cell_type": "code",
   "execution_count": 10,
   "metadata": {
    "collapsed": false
   },
   "outputs": [
    {
     "name": "stdout",
     "output_type": "stream",
     "text": [
      "The value of pi/4 is = 0.785426\n",
      "The real value of pi/4 is = 0.7853981633974483\n",
      "The relative error is = 0.0035%\n",
      "Elapsed time = 1.0053730010986328 seconds\n"
     ]
    },
    {
     "data": {
      "text/plain": [
       "float"
      ]
     },
     "execution_count": 10,
     "metadata": {},
     "output_type": "execute_result"
    }
   ],
   "source": [
    "#Another approach to the same problem\n",
    "size = 1000000\n",
    "start = time.time()\n",
    "x_sq = np.power(np.random.random_sample(size), 2)\n",
    "y_sq = np.power(np.random.random_sample(size), 2)\n",
    "counter = 0\n",
    "for i in range(size):\n",
    "    if x_sq[i] + y_sq[i] <=1:\n",
    "        counter += 1\n",
    "result = counter/size\n",
    "end = time.time()\n",
    "print(\"The value of pi/4 is = {}\".format(result))\n",
    "print(\"The real value of pi/4 is = {}\".format(np.pi/4))\n",
    "print(\"The relative error is = {0:.4f}%\".format(np.abs(result-np.pi/4)*100/(np.pi/4)))\n",
    "print(\"Elapsed time = {} seconds\".format(end-start))"
   ]
  },
  {
   "cell_type": "code",
   "execution_count": 3,
   "metadata": {
    "collapsed": false
   },
   "outputs": [
    {
     "name": "stdout",
     "output_type": "stream",
     "text": [
      "Overwriting pi_approx.pyx\n"
     ]
    }
   ],
   "source": [
    "%%file pi_approx.pyx\n",
    "\"\"\"Same approach as before but with cython\"\"\"\n",
    "cpdef tuple show():\n",
    "    import numpy as np\n",
    "    import time\n",
    "    cdef long counter =0, size = 1000000\n",
    "    cdef double start, end, result\n",
    "    start = time.time()\n",
    "    x_sq = np.power(np.random.random_sample(size),2)\n",
    "    y_sq = np.power(np.random.random_sample(size), 2)\n",
    "\n",
    "    for i in range(size):\n",
    "        if x_sq[i] + y_sq[i] < 1.0:\n",
    "            counter += 1\n",
    "    result = <double>counter/<double>size\n",
    "    end = time.time()\n",
    "     \n",
    "    a = \"The value of pi/4 is = {}\".format(result)\n",
    "    b = \"The real value of pi/4 is = {}\".format(np.pi/4)\n",
    "    c = \"The relative error is = {0:.4f}%\".format(np.abs(result-np.pi/4)*100/(np.pi/4))\n",
    "    d = \"Elapsed time = {} seconds\".format(end-start)\n",
    "    return a, b, c, d\n"
   ]
  },
  {
   "cell_type": "code",
   "execution_count": 2,
   "metadata": {
    "collapsed": false
   },
   "outputs": [
    {
     "name": "stdout",
     "output_type": "stream",
     "text": [
      "Overwriting setup.py\n"
     ]
    }
   ],
   "source": [
    "%%file setup.py\n",
    "from distutils.core import setup\n",
    "from Cython.Build import cythonize\n",
    "setup(\n",
    "    name='pi_approx',\n",
    "    ext_modules = cythonize('pi_approx.pyx')\n",
    ")"
   ]
  },
  {
   "cell_type": "code",
   "execution_count": 1,
   "metadata": {
    "collapsed": false
   },
   "outputs": [
    {
     "name": "stdout",
     "output_type": "stream",
     "text": [
      "Compiling pi_approx.pyx because it changed.\n",
      "[1/1] Cythonizing pi_approx.pyx\n",
      "running build_ext\n",
      "building 'pi_approx' extension\n",
      "gcc -pthread -Wsign-compare -DNDEBUG -g -fwrapv -O3 -Wall -Wstrict-prototypes -fPIC -I/home/eduardo/anaconda3/include/python3.5m -c pi_approx.c -o build/temp.linux-x86_64-3.5/pi_approx.o\n",
      "gcc -pthread -shared -L/home/eduardo/anaconda3/lib -Wl,-rpath=/home/eduardo/anaconda3/lib,--no-as-needed build/temp.linux-x86_64-3.5/pi_approx.o -L/home/eduardo/anaconda3/lib -lpython3.5m -o /home/eduardo/Desktop/Programming/Python/0-Folders/pi_approx.cpython-35m-x86_64-linux-gnu.so\n"
     ]
    }
   ],
   "source": [
    "%run setup.py build_ext --inplace"
   ]
  },
  {
   "cell_type": "code",
   "execution_count": 1,
   "metadata": {
    "collapsed": false
   },
   "outputs": [
    {
     "name": "stdout",
     "output_type": "stream",
     "text": [
      "10 loops, best of 3: 343 ms per loop\n"
     ]
    }
   ],
   "source": [
    "import pi_approx\n",
    "#pi_approx.show()\n",
    "%timeit -n 10 pi_approx.show()\n",
    "#We obtain 0.34 ms vs 1.00 seconds from pure python"
   ]
  },
  {
   "cell_type": "code",
   "execution_count": 1,
   "metadata": {
    "collapsed": false
   },
   "outputs": [
    {
     "name": "stdout",
     "output_type": "stream",
     "text": [
      "56.511185278312404\n"
     ]
    }
   ],
   "source": [
    "#Double integral experiment with Python not in the book\n",
    "#Integral of x + y from  2<x<4 and 2<y<6\n",
    "def show():\n",
    "    import time\n",
    "    import numpy as np\n",
    "    N = 1000\n",
    "    sumx = 0\n",
    "    sumy = 0\n",
    "    for i in range(N):\n",
    "        y = (6-2) * np.random.rand() + 2\n",
    "        for j in range(N):\n",
    "            x = (4-2) * np.random.rand() + 2\n",
    "            sumx += x + y\n",
    "        sumy = (sumy + sumx/N)\n",
    "        sumx = 0\n",
    "    result = (6-2) * (4-2) * sumy/N\n",
    "    return result\n",
    "print(show())"
   ]
  },
  {
   "cell_type": "code",
   "execution_count": 2,
   "metadata": {
    "collapsed": false
   },
   "outputs": [
    {
     "name": "stdout",
     "output_type": "stream",
     "text": [
      "Overwriting cyt_dint.pyx\n"
     ]
    }
   ],
   "source": [
    "%%file cyt_dint.pyx\n",
    "cpdef double show():\n",
    "    import time\n",
    "    import numpy as np\n",
    "    cdef long N = 1000, i, j\n",
    "    cdef double Nd, x, y, a ,b, c, d, sumx = 0, sumy = 0, result\n",
    "    Nd = <double>N\n",
    "    a = 2.0\n",
    "    b = 6.0\n",
    "    c = 2.0\n",
    "    d = 4.0\n",
    "    for i in range(N):\n",
    "        y = (b-a) * np.random.rand() + a\n",
    "        for j in range(N):\n",
    "            x = (d-c) * np.random.rand() + c\n",
    "            sumx += x + y\n",
    "        sumy = (sumy + sumx/Nd)\n",
    "        sumx = 0.0\n",
    "    result = (b-a) * (d-c) * sumy/Nd\n",
    "    return result"
   ]
  },
  {
   "cell_type": "code",
   "execution_count": 101,
   "metadata": {
    "collapsed": false
   },
   "outputs": [
    {
     "name": "stdout",
     "output_type": "stream",
     "text": [
      "Overwriting setup.py\n"
     ]
    }
   ],
   "source": [
    "%%file setup.py\n",
    "from distutils.core import setup\n",
    "from Cython.Build import cythonize\n",
    "setup(\n",
    "    name = 'cyt_dint',\n",
    "    ext_modules = cythonize('cyt_dint.pyx')\n",
    ")"
   ]
  },
  {
   "cell_type": "code",
   "execution_count": 3,
   "metadata": {
    "collapsed": false
   },
   "outputs": [
    {
     "name": "stdout",
     "output_type": "stream",
     "text": [
      "Compiling cyt_dint.pyx because it changed.\n",
      "[1/1] Cythonizing cyt_dint.pyx\n",
      "running build_ext\n",
      "building 'cyt_dint' extension\n",
      "gcc -pthread -Wsign-compare -DNDEBUG -g -fwrapv -O3 -Wall -Wstrict-prototypes -fPIC -I/home/eduardo/anaconda3/include/python3.5m -c cyt_dint.c -o build/temp.linux-x86_64-3.5/cyt_dint.o\n",
      "gcc -pthread -shared -L/home/eduardo/anaconda3/lib -Wl,-rpath=/home/eduardo/anaconda3/lib,--no-as-needed build/temp.linux-x86_64-3.5/cyt_dint.o -L/home/eduardo/anaconda3/lib -lpython3.5m -o /home/eduardo/Desktop/Programming/Python/0-Folders/cyt_dint.cpython-35m-x86_64-linux-gnu.so\n"
     ]
    }
   ],
   "source": [
    "%run setup.py build_ext --inplace"
   ]
  },
  {
   "cell_type": "code",
   "execution_count": 2,
   "metadata": {
    "collapsed": false
   },
   "outputs": [
    {
     "data": {
      "text/plain": [
       "56.10776444350975"
      ]
     },
     "execution_count": 2,
     "metadata": {},
     "output_type": "execute_result"
    }
   ],
   "source": [
    "import cyt_dint\n",
    "cyt_dint.show()"
   ]
  },
  {
   "cell_type": "code",
   "execution_count": 3,
   "metadata": {
    "collapsed": false
   },
   "outputs": [
    {
     "name": "stdout",
     "output_type": "stream",
     "text": [
      "10 loops, best of 3: 314 ms per loop\n",
      "10 loops, best of 3: 624 ms per loop\n"
     ]
    }
   ],
   "source": [
    "%timeit -n 10 cyt_dint.show()\n",
    "%timeit -n 10 show()"
   ]
  },
  {
   "cell_type": "code",
   "execution_count": null,
   "metadata": {
    "collapsed": true
   },
   "outputs": [],
   "source": []
  }
 ],
 "metadata": {
  "anaconda-cloud": {},
  "kernelspec": {
   "display_name": "Python [conda root]",
   "language": "python",
   "name": "conda-root-py"
  },
  "language_info": {
   "codemirror_mode": {
    "name": "ipython",
    "version": 3
   },
   "file_extension": ".py",
   "mimetype": "text/x-python",
   "name": "python",
   "nbconvert_exporter": "python",
   "pygments_lexer": "ipython3",
   "version": "3.5.2"
  }
 },
 "nbformat": 4,
 "nbformat_minor": 2
}
