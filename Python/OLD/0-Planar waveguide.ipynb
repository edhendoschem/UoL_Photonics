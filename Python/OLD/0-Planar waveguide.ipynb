{
 "cells": [
  {
   "cell_type": "code",
   "execution_count": 1,
   "metadata": {
    "collapsed": false
   },
   "outputs": [
    {
     "name": "stdout",
     "output_type": "stream",
     "text": [
      "Overwriting planar_waveguide.py\n"
     ]
    }
   ],
   "source": [
    "%%file planar_waveguide.py\n",
    "import numpy as np\n",
    "import multiprocessing as mp\n",
    "import pprint\n",
    "\n",
    "#Starting parameters\n",
    "a =  3e-6 #Thickness of the core in m\n",
    "x = np.linspace(0,a,100)  #Distance between the centre of the core to the interface with the cladding -a<=x<=a\n",
    "n_0 = 1.455  #Refractive index of the cladding\n",
    "n_1 = 1.47  #Refractive index of the core\n",
    "n_s = 1.46  #Refractive index of the substrate (higher than n_0?)\n",
    "mu_0 = (4*np.pi)*1e-7  #Permeability of free space\n",
    "epsilon_0 = 8.854e-12  #Permittivity of free space\n",
    "Lambda = 1.55e-6 #Wavelength of the light in m\n",
    "phi = 0 #defining the variable\n",
    "\n",
    "\n",
    "#Relative refractive index\n",
    "delta = ((n_1**2) - (n_0**2)) / (2*n_1**2)\n",
    "\n",
    "#Numerical aperture\n",
    "NA = n_1 * np.sqrt(2*delta) #Also equal to theta max, typical waveguides NA=0.21\n",
    "\n",
    "#Phi max\n",
    "phi_max = NA / n_1\n",
    "\n",
    "#Wavenumber or circular wavenumber\n",
    "k = 2*np.pi / Lambda\n",
    "\n",
    "#Eigenvalue equations preliminary\n",
    "gamma = ((n_s**2) - (n_0**2)) / ((n_1**2) - (n_s**2))   #Asymmetry factor\n",
    "\n",
    "v = np.sqrt((k**2) * (a**2) * (n_1**2 - n_s**2))  #Normalized frequency\n",
    "\n",
    "w_ang = 2.998e8*k #Angular frequency\n",
    "\n",
    "modes = {}  #Contains the modes and normalized wavenumbers u, w, w_prime, normalized propagation constant, etc\n",
    "\n",
    "def work_splitter():\n",
    "    if (v**2)/2<2:\n",
    "        return ((0, 0, 0.25), (0, 0.25, 0.5), (0, 0.5, 0.75), (0, 0.75, 1))\n",
    "    elif 2<(v**2)/2<3:\n",
    "        return ((0, 0, 0.5), (0, 0.5, 1), (1, 0, 0.5), (1, 0.5, 1))\n",
    "    elif 3<(v**2)/2<4:\n",
    "        return ((0, 0, 0.5), (0, 0.5, 1), (1, 0, 1), (2, 0, 1))\n",
    "    elif 3<(v**2)/2<5:\n",
    "        return ((0, 0, 1), (1, 0, 1), (2, 0, 1), (3, 0, 1))\n",
    "\n",
    "def mode_finder(m, start, end):\n",
    "    step_size = 1e-6\n",
    "    for b in np.arange(start,end,step_size):\n",
    "\n",
    "        u = v*np.sqrt(1-b) #Normalized wavenumber\n",
    "        w = v*np.sqrt(b)   #Normalized wavenumber\n",
    "        w_prime = v*np.sqrt(b+gamma) #Normalized wavenumber\n",
    "        #Page 30 of the book\n",
    "        if np.absolute(2*v*np.sqrt(1-b) - (m*np.pi + np.arctan(np.sqrt(b/(1-b)))\n",
    "         + np.arctan(np.sqrt((b+gamma) / (1-b))))) < 1e-4 and np.absolute(u**2+w**2-v**2) < 1e-4:\n",
    "            phi = m*np.pi*0.5 + 0.5*np.arctan(w/u)-0.5*np.arctan(w_prime/u) #Angle in radians\n",
    "            phi_deg = phi * 180 / np.pi  #Angle in degrees\n",
    "            \"\"\"if phi<0:\n",
    "                phi_deg = (phi + np.pi/2)*180/np.pi\n",
    "            elif 0<phi<np.pi/2:\n",
    "                phi_deg = phi*180/np.pi\n",
    "            else:\n",
    "                phi_deg = 'Check angle?'  #Ask what happens if angle negative or over pi/2\"\"\"\n",
    "\n",
    "            n_e = np.sqrt((n_s**2) + b*((n_1**2)-(n_s**2))) #Effective index\n",
    "            beta = n_e * k\n",
    "            kappa = np.sqrt((k**2)*(n_1**2)-(beta**2)) #Wavenumber along the x axis\n",
    "            sigma = np.sqrt((beta**2)-(k**2)*(n_0**2)) #Wavenumber along the x axis\n",
    "            xi = np.sqrt((beta**2)-(k**2)*(n_s**2)) #Wavenumber along the x axis\n",
    "            modes[m]={'u':u, 'w':w, 'w_prime':w_prime, 'b':b, 'v':v, 'phi':phi,'phi_deg':phi_deg, 'n_e':n_e, 'beta':beta,\n",
    "                     'kappa':kappa, 'sigma':sigma, 'xi':xi}\n",
    "            break\n",
    "        else:\n",
    "            continue\n",
    "\n",
    "    return modes\n",
    "\n",
    "\n",
    "if __name__==\"__main__\":\n",
    "    pool = mp.Pool(processes = mp.cpu_count()+1)\n",
    "    results = pool.starmap(mode_finder,work_splitter())\n",
    "    pool.close()\n",
    "    pool.join()\n",
    "    print(pprint.pformat(results))"
   ]
  },
  {
   "cell_type": "code",
   "execution_count": 2,
   "metadata": {
    "collapsed": false
   },
   "outputs": [
    {
     "name": "stdout",
     "output_type": "stream",
     "text": [
      "Microsoft Windows [Version 10.0.10586]\r\n",
      "(c) 2015 Microsoft Corporation. All rights reserved.\r\n",
      "\r\n",
      "C:\\Users\\Eduardo\\0-Folders\\Python>python planar_waveguide.py\n",
      "[{},\r\n",
      " {0: {'b': 0.73109100000664518,\r\n",
      "      'beta': 5948018.3504254082,\r\n",
      "      'kappa': 359819.46144770383,\r\n",
      "      'n_e': 1.4673176092108329,\r\n",
      "      'phi': -0.053785021347859785,\r\n",
      "      'phi_deg': -3.0816547242534003,\r\n",
      "      'sigma': 769086.32351394929,\r\n",
      "      'u': 1.0794583843430963,\r\n",
      "      'v': 2.0816285470305016,\r\n",
      "      'w': 1.7798727494637672,\r\n",
      "      'w_prime': 2.307258970541858,\r\n",
      "      'xi': 593290.91648791847}},\r\n",
      " {1: {'b': 0.058192999999999995,\r\n",
      "      'beta': 5920721.7489986029,\r\n",
      "      'kappa': 673384.22373028018,\r\n",
      "      'n_e': 1.4605838061884706,\r\n",
      "      'phi': 1.3651241722399972,\r\n",
      "      'phi_deg': 78.215853580641891,\r\n",
      "      'sigma': 517220.94416592096,\r\n",
      "      'u': 2.0201526711908424,\r\n",
      "      'v': 2.0816285470305016,\r\n",
      "      'w': 0.5021559447948637,\r\n",
      "      'w_prime': 1.551662832497765,\r\n",
      "      'xi': 167385.31493162061}},\r\n",
      " {}]\r\n",
      "\r\n",
      "C:\\Users\\Eduardo\\0-Folders\\Python>"
     ]
    }
   ],
   "source": [
    "%%cmd\n",
    "python planar_waveguide.py"
   ]
  },
  {
   "cell_type": "code",
   "execution_count": 116,
   "metadata": {
    "collapsed": false
   },
   "outputs": [
    {
     "data": {
      "text/plain": [
       "2.7182818284590451"
      ]
     },
     "execution_count": 116,
     "metadata": {},
     "output_type": "execute_result"
    }
   ],
   "source": [
    "import numpy as np\n",
    "np.exp(1)"
   ]
  },
  {
   "cell_type": "code",
   "execution_count": null,
   "metadata": {
    "collapsed": true
   },
   "outputs": [],
   "source": []
  }
 ],
 "metadata": {
  "kernelspec": {
   "display_name": "Python 3",
   "language": "python",
   "name": "python3"
  },
  "language_info": {
   "codemirror_mode": {
    "name": "ipython",
    "version": 3
   },
   "file_extension": ".py",
   "mimetype": "text/x-python",
   "name": "python",
   "nbconvert_exporter": "python",
   "pygments_lexer": "ipython3",
   "version": "3.5.1"
  }
 },
 "nbformat": 4,
 "nbformat_minor": 0
}
