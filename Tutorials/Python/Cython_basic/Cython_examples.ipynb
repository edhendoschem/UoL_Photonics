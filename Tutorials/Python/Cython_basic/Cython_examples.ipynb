{
 "cells": [
  {
   "cell_type": "markdown",
   "metadata": {},
   "source": [
    "# Example 1"
   ]
  },
  {
   "cell_type": "code",
   "execution_count": null,
   "metadata": {
    "collapsed": false
   },
   "outputs": [],
   "source": [
    "%%file busy_loop.pyx\n",
    "cpdef busy_loop():\n",
    "    cdef:\n",
    "        long i, total = 0, n = 10000\n",
    "    for i in range(n):\n",
    "        total += i\n",
    "    return total"
   ]
  },
  {
   "cell_type": "code",
   "execution_count": null,
   "metadata": {
    "collapsed": false
   },
   "outputs": [],
   "source": [
    "%%file setup.py\n",
    "from distutils.core import setup\n",
    "from Cython.Build import cythonize\n",
    "\n",
    "setup (\n",
    "    name = \"busy_loop\",\n",
    "    ext_modules = cythonize(\"busy_loop.pyx\")\n",
    ")"
   ]
  },
  {
   "cell_type": "code",
   "execution_count": null,
   "metadata": {
    "collapsed": false
   },
   "outputs": [],
   "source": [
    "%run setup.py build_ext --inplace"
   ]
  },
  {
   "cell_type": "code",
   "execution_count": null,
   "metadata": {
    "collapsed": false
   },
   "outputs": [],
   "source": [
    "def py_busy_loop():\n",
    "    n = 100000\n",
    "    total = 0\n",
    "    for i in range(n):\n",
    "        total += i\n",
    "    return total"
   ]
  },
  {
   "cell_type": "code",
   "execution_count": null,
   "metadata": {
    "collapsed": false
   },
   "outputs": [],
   "source": [
    "import busy_loop\n",
    "%timeit -n 1000 busy_loop.busy_loop()\n",
    "%timeit -n 1000 py_busy_loop()"
   ]
  },
  {
   "cell_type": "markdown",
   "metadata": {},
   "source": [
    "# Example 2"
   ]
  },
  {
   "cell_type": "code",
   "execution_count": null,
   "metadata": {
    "collapsed": false
   },
   "outputs": [],
   "source": [
    "%%file fibonacci.pyx\n",
    "cpdef fibonacci(long long n):\n",
    "    cdef:\n",
    "        long long current = 1, previous = 1, temp = 0, i\n",
    "    if n > 2:\n",
    "        for i in range(2, n):\n",
    "            temp = current\n",
    "            current += previous\n",
    "            previous = temp\n",
    "    else:\n",
    "        return current\n",
    "    return current"
   ]
  },
  {
   "cell_type": "code",
   "execution_count": null,
   "metadata": {
    "collapsed": false
   },
   "outputs": [],
   "source": [
    "%%file setup.py\n",
    "from distutils.core import setup\n",
    "from Cython.Build import cythonize\n",
    "\n",
    "setup (\n",
    "    name = \"fibonacci\",\n",
    "    ext_modules = cythonize(\"fibonacci.pyx\")\n",
    ")"
   ]
  },
  {
   "cell_type": "code",
   "execution_count": null,
   "metadata": {
    "collapsed": false
   },
   "outputs": [],
   "source": [
    "%run setup.py build_ext --inplace"
   ]
  },
  {
   "cell_type": "code",
   "execution_count": null,
   "metadata": {
    "collapsed": false
   },
   "outputs": [],
   "source": [
    "def py_fibonacci(n):\n",
    "    current = 1\n",
    "    previous = 1\n",
    "    temp = 0\n",
    "    if n > 2:\n",
    "        for i in range(2, n):\n",
    "            temp = current\n",
    "            current += previous\n",
    "            previous = temp\n",
    "    else:\n",
    "        return current\n",
    "    return current"
   ]
  },
  {
   "cell_type": "code",
   "execution_count": null,
   "metadata": {
    "collapsed": false
   },
   "outputs": [],
   "source": [
    "import fibonacci as fib\n",
    "%timeit -n 10000 fib.fibonacci(92)\n",
    "%timeit -n 10000 py_fibonacci(92)"
   ]
  },
  {
   "cell_type": "code",
   "execution_count": null,
   "metadata": {
    "collapsed": false,
    "scrolled": true
   },
   "outputs": [],
   "source": [
    "print(fib.fibonacci(92))\n",
    "print(\"_________________________________________________\")\n",
    "print(py_fibonacci(92))"
   ]
  },
  {
   "cell_type": "code",
   "execution_count": null,
   "metadata": {
    "collapsed": false
   },
   "outputs": [],
   "source": [
    "print(fib.fibonacci(93))\n",
    "print(\"_________________________________________________\")\n",
    "print(py_fibonacci(93))"
   ]
  },
  {
   "cell_type": "markdown",
   "metadata": {},
   "source": [
    "# cProfile example"
   ]
  },
  {
   "cell_type": "code",
   "execution_count": null,
   "metadata": {
    "collapsed": false
   },
   "outputs": [],
   "source": [
    "%%file py_test.py\n",
    "import math as mt\n",
    "def integrate(a, b, f, N = 10000000):\n",
    "    dx = (b - a) / N\n",
    "    s = 0.0\n",
    "    for i in range(N):\n",
    "        s += f(a+i*dx)\n",
    "    return s * dx\n",
    "\n",
    "def some_func(a):\n",
    "    return mt.sin(a) * mt.sqrt((mt.exp(-a)))\n",
    "        \n",
    "def main():\n",
    "    total = 0\n",
    "    a = 2\n",
    "    b = 7\n",
    "    \n",
    "    #Find the integral of some_func from a to b\n",
    "    result = integrate(a, b, some_func)\n",
    "    return result\n",
    "    \n",
    "    \n",
    "if __name__ == '__main__':\n",
    "    import cProfile\n",
    "    cProfile.run('main()', sort = 'time')"
   ]
  },
  {
   "cell_type": "code",
   "execution_count": null,
   "metadata": {
    "collapsed": false,
    "scrolled": true
   },
   "outputs": [],
   "source": [
    "%run py_test.py"
   ]
  },
  {
   "cell_type": "code",
   "execution_count": null,
   "metadata": {
    "collapsed": false
   },
   "outputs": [],
   "source": [
    "%%file py_test_ext.pyx\n",
    "#cython: profile = True\n",
    "from libc.math cimport sin, sqrt, exp\n",
    "cpdef integrate(double a, double b, f,long long N = 10000000):\n",
    "    cdef:\n",
    "        double dx = (b - a) / N\n",
    "        double s = 0.0\n",
    "        long long i\n",
    "    for i in range(N):\n",
    "        s += f(a+i*dx)\n",
    "    return s * dx\n",
    "\n",
    "cpdef some_func(double a):\n",
    "    return sin(a) * sqrt((exp(-a)))"
   ]
  },
  {
   "cell_type": "code",
   "execution_count": null,
   "metadata": {
    "collapsed": false
   },
   "outputs": [],
   "source": [
    "%%file setup.py\n",
    "from distutils.core import setup\n",
    "from Cython.Build import cythonize\n",
    "\n",
    "setup(\n",
    "    name = \"py_test_ext\",\n",
    "    ext_modules = cythonize(\"py_test_ext.pyx\")\n",
    ")"
   ]
  },
  {
   "cell_type": "code",
   "execution_count": null,
   "metadata": {
    "collapsed": false
   },
   "outputs": [],
   "source": [
    "%run setup.py build_ext --inplace"
   ]
  },
  {
   "cell_type": "code",
   "execution_count": null,
   "metadata": {
    "collapsed": false
   },
   "outputs": [],
   "source": [
    "%%file py_test2.py\n",
    "from py_test_ext import integrate, some_func\n",
    "import math as mt\n",
    "\n",
    "def main():\n",
    "    total = 0\n",
    "    a = 2\n",
    "    b = 7\n",
    "    \n",
    "    #Find the integral of some_func from a to b\n",
    "    result = integrate(a, b, some_func)\n",
    "    return result\n",
    "    \n",
    "    \n",
    "if __name__ == '__main__':\n",
    "    import cProfile\n",
    "    cProfile.run('main()', sort = 'time')"
   ]
  },
  {
   "cell_type": "code",
   "execution_count": null,
   "metadata": {
    "collapsed": false
   },
   "outputs": [],
   "source": [
    "%run py_test2.py"
   ]
  },
  {
   "cell_type": "code",
   "execution_count": null,
   "metadata": {
    "collapsed": true
   },
   "outputs": [],
   "source": []
  }
 ],
 "metadata": {
  "kernelspec": {
   "display_name": "Python 3",
   "language": "python",
   "name": "python3"
  },
  "language_info": {
   "codemirror_mode": {
    "name": "ipython",
    "version": 3
   },
   "file_extension": ".py",
   "mimetype": "text/x-python",
   "name": "python",
   "nbconvert_exporter": "python",
   "pygments_lexer": "ipython3",
   "version": "3.6.0"
  }
 },
 "nbformat": 4,
 "nbformat_minor": 2
}
