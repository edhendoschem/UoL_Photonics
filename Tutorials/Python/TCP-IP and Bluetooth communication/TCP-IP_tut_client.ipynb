{
 "cells": [
  {
   "cell_type": "code",
   "execution_count": 1,
   "metadata": {
    "collapsed": false
   },
   "outputs": [
    {
     "name": "stdout",
     "output_type": "stream",
     "text": [
      "b'Connection established'\n"
     ]
    }
   ],
   "source": [
    "#Client side script\n",
    "import socket #loads the socket library\n",
    "def packet(obj):\n",
    "    \"\"\"\n",
    "    Takes as argument any object that can be converted to string and converts it to bytes\n",
    "    \"\"\"\n",
    "    obj = str(obj)\n",
    "    obj = bytes(obj, 'utf-8')\n",
    "    return obj\n",
    "s = socket.socket(socket.AF_INET, socket.SOCK_STREAM) #Establish the type of socket we want\n",
    "s.connect(('127.0.0.1', 5003)) #Connect to the desired ip address and port\n",
    "s.send(b'hello') #Send the message as a bytes object\n",
    "s.send(packet(102.35))\n",
    "data = s.recv(32) #Receive a message of 32 bytes in size max\n",
    "print(data) #Print the received message\n",
    "s.close() #Close the connection\n"
   ]
  },
  {
   "cell_type": "code",
   "execution_count": 18,
   "metadata": {
    "collapsed": false
   },
   "outputs": [
    {
     "name": "stdout",
     "output_type": "stream",
     "text": [
      "b'Connection established'\n",
      "b'data processed'\r"
     ]
    }
   ],
   "source": [
    "#Improved client side script, endlessly read a log file\n",
    "import socket #loads the socket library\n",
    "import time\n",
    "\n",
    "def packet(obj):\n",
    "    \"\"\"\n",
    "    Takes as argument any object that can be converted to string and converts it to bytes\n",
    "    \"\"\"\n",
    "    obj = str(obj)\n",
    "    obj = bytes(obj, 'utf-8')\n",
    "    return obj\n",
    "\n",
    "def line_get(file_handle):\n",
    "    \"\"\"\n",
    "    Returns a generator that endlessly reads a file while occupying constant memory. requires file_handle(file object)\n",
    "    \"\"\"\n",
    "    file_handle.seek(0,1) #Change this to (0,2) if you want to start reading from the last line\n",
    "    while True:\n",
    "        line = file_handle.readline()\n",
    "        if not line:\n",
    "            time.sleep(10) #Waits 10 seconds before attempting to read the next line\n",
    "            continue\n",
    "        yield line\n",
    "    \n",
    "\n",
    "file_to_read = open('testfile.csv', 'r')\n",
    "s = socket.socket(socket.AF_INET, socket.SOCK_STREAM) #Establish the type of socket we want\n",
    "s.connect(('127.0.0.1', 5004)) #Connect to the desired ip address and port\n",
    "print(s.recv(128)) #Prints connection established message from server\n",
    "try:\n",
    "    for lines in line_get(file_to_read):#Needs to be manually interrupted using the stop button in jupyter notebook\n",
    "        s.send(packet(lines)) #Send the message as a bytes object\n",
    "        data = s.recv(128) #Receive a message, cycle stops here until the message is received\n",
    "        print(data, end = '\\r') #Print the received message, will continuosly overwrite this line\n",
    "except: #Catches the keyboard interrupt and closes the connection\n",
    "    s.close() #Close the connection"
   ]
  }
 ],
 "metadata": {
  "kernelspec": {
   "display_name": "Python 3",
   "language": "python",
   "name": "python3"
  },
  "language_info": {
   "codemirror_mode": {
    "name": "ipython",
    "version": 3
   },
   "file_extension": ".py",
   "mimetype": "text/x-python",
   "name": "python",
   "nbconvert_exporter": "python",
   "pygments_lexer": "ipython3",
   "version": "3.6.2"
  }
 },
 "nbformat": 4,
 "nbformat_minor": 2
}
