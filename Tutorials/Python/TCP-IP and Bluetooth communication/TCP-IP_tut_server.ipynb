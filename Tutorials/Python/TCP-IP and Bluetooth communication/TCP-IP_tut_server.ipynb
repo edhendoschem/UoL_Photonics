{
 "cells": [
  {
   "cell_type": "code",
   "execution_count": 1,
   "metadata": {
    "collapsed": false
   },
   "outputs": [
    {
     "name": "stdout",
     "output_type": "stream",
     "text": [
      "b'hello'\n"
     ]
    }
   ],
   "source": [
    "#Server side script\n",
    "import socket #loads the socket library\n",
    "s = socket.socket(socket.AF_INET, socket.SOCK_STREAM)\n",
    "s.bind(('127.0.0.1', 5003))\n",
    "s.listen(1)\n",
    "connection, address = s.accept()\n",
    "received_data = connection.recv(32)\n",
    "connection.send(b\"Connection established\")\n",
    "print(received_data)\n",
    "connection.close()\n",
    "s.close()"
   ]
  },
  {
   "cell_type": "code",
   "execution_count": 11,
   "metadata": {
    "collapsed": false
   },
   "outputs": [
    {
     "name": "stdout",
     "output_type": "stream",
     "text": [
      "b''9/07/2017 14:10:04.849,301.830,186.173,1.754\\n'\r"
     ]
    }
   ],
   "source": [
    "#Improved Server side script\n",
    "import socket #loads the socket library\n",
    "s = socket.socket(socket.AF_INET, socket.SOCK_STREAM)\n",
    "s.bind(('127.0.0.1', 5004))\n",
    "s.listen(1)\n",
    "connection, address = s.accept()\n",
    "connection.send(b\"Connection established\")\n",
    "file_to_write = open(\"test_output.csv\", \"a+\")\n",
    "while True:\n",
    "    received_data = connection.recv(128)\n",
    "    print(received_data, end = '\\r') #Will print the data received and continuosly overwrite this line\n",
    "    if not received_data:\n",
    "        break;\n",
    "    file_to_write.write(str(received_data).lstrip('b').strip(\"'\")+'\\n')\n",
    "    connection.send(b\"data processed\")\n",
    "file_to_write.close()\n",
    "connection.close()\n",
    "s.close()"
   ]
  }
 ],
 "metadata": {
  "kernelspec": {
   "display_name": "Python 3",
   "language": "python",
   "name": "python3"
  },
  "language_info": {
   "codemirror_mode": {
    "name": "ipython",
    "version": 3
   },
   "file_extension": ".py",
   "mimetype": "text/x-python",
   "name": "python",
   "nbconvert_exporter": "python",
   "pygments_lexer": "ipython3",
   "version": "3.6.2"
  }
 },
 "nbformat": 4,
 "nbformat_minor": 2
}
